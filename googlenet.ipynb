{
  "cells": [
    {
      "cell_type": "code",
      "execution_count": 22,
      "id": "c134bf89-56c6-46bf-874d-92ae07452893",
      "metadata": {
        "id": "c134bf89-56c6-46bf-874d-92ae07452893"
      },
      "outputs": [],
      "source": [
        "import torch\n",
        "import torch.nn as nn\n",
        "import torch.nn.functional as F\n",
        "import torch.optim as optim\n",
        "from torch.optim import lr_scheduler\n",
        "import torchvision\n",
        "import torchvision.transforms as transforms\n",
        "from torch.utils.data import Dataset, DataLoader\n",
        "from PIL import Image\n",
        "import os\n",
        "from tqdm import tqdm\n",
        "import numpy as np\n",
        "import matplotlib.pyplot as plt\n",
        "import seaborn as sns\n",
        "from sklearn.metrics import confusion_matrix, classification_report"
      ]
    },
    {
      "cell_type": "code",
      "execution_count": 23,
      "id": "6BC7-IJZ8sRq",
      "metadata": {
        "id": "6BC7-IJZ8sRq"
      },
      "outputs": [],
      "source": [
        "class Inception(nn.Module):\n",
        "    def __init__(self, in_channels, ch1x1, ch3x3red, ch3x3, ch5x5red, ch5x5, pool_proj):\n",
        "        super(Inception, self).__init__()\n",
        "\n",
        "        self.branch1 = nn.Sequential(\n",
        "            nn.Conv2d(in_channels, ch1x1, kernel_size=1),\n",
        "            nn.BatchNorm2d(ch1x1),\n",
        "            nn.ReLU(inplace=True)\n",
        "        )\n",
        "\n",
        "        self.branch2 = nn.Sequential(\n",
        "            nn.Conv2d(in_channels, ch3x3red, kernel_size=1),\n",
        "            nn.BatchNorm2d(ch3x3red),\n",
        "            nn.ReLU(inplace=True),\n",
        "            nn.Conv2d(ch3x3red, ch3x3, kernel_size=3, padding=1),\n",
        "            nn.BatchNorm2d(ch3x3),\n",
        "            nn.ReLU(inplace=True)\n",
        "        )\n",
        "\n",
        "        self.branch3 = nn.Sequential(\n",
        "            nn.Conv2d(in_channels, ch5x5red, kernel_size=1),\n",
        "            nn.BatchNorm2d(ch5x5red),\n",
        "            nn.ReLU(inplace=True),\n",
        "            nn.Conv2d(ch5x5red, ch5x5, kernel_size=5, padding=2),\n",
        "            nn.BatchNorm2d(ch5x5),\n",
        "            nn.ReLU(inplace=True)\n",
        "        )\n",
        "\n",
        "        self.branch4 = nn.Sequential(\n",
        "            nn.MaxPool2d(kernel_size=3, stride=1, padding=1),\n",
        "            nn.Conv2d(in_channels, pool_proj, kernel_size=1),\n",
        "            nn.BatchNorm2d(pool_proj),\n",
        "            nn.ReLU(inplace=True)\n",
        "        )\n",
        "\n",
        "    def forward(self, x):\n",
        "        return torch.cat([self.branch1(x), self.branch2(x), self.branch3(x), self.branch4(x)], 1)\n",
        "\n",
        "class CustomGoogLeNet(nn.Module):\n",
        "    def __init__(self, num_classes=102):\n",
        "        super(CustomGoogLeNet, self).__init__()\n",
        "\n",
        "        self.conv1 = nn.Sequential(\n",
        "            nn.Conv2d(3, 64, kernel_size=7, stride=2, padding=3),\n",
        "            nn.BatchNorm2d(64),\n",
        "            nn.ReLU(inplace=True),\n",
        "            nn.MaxPool2d(kernel_size=3, stride=2, padding=1)\n",
        "        )\n",
        "\n",
        "        self.conv2 = nn.Sequential(\n",
        "            nn.Conv2d(64, 64, kernel_size=1),\n",
        "            nn.BatchNorm2d(64),\n",
        "            nn.ReLU(inplace=True),\n",
        "            nn.Conv2d(64, 192, kernel_size=3, padding=1),\n",
        "            nn.BatchNorm2d(192),\n",
        "            nn.ReLU(inplace=True),\n",
        "            nn.MaxPool2d(kernel_size=3, stride=2, padding=1)\n",
        "        )\n",
        "\n",
        "        self.inception3a = Inception(192, 64, 96, 128, 16, 32, 32)\n",
        "        self.inception3b = Inception(256, 128, 128, 192, 32, 96, 64)\n",
        "        self.maxpool3 = nn.MaxPool2d(kernel_size=3, stride=2, padding=1)\n",
        "\n",
        "        self.inception4a = Inception(480, 192, 96, 208, 16, 48, 64)\n",
        "        self.inception4b = Inception(512, 160, 112, 224, 24, 64, 64)\n",
        "        self.inception4c = Inception(512, 128, 128, 256, 24, 64, 64)\n",
        "        self.inception4d = Inception(512, 112, 144, 288, 32, 64, 64)\n",
        "        self.inception4e = Inception(528, 256, 160, 320, 32, 128, 128)\n",
        "        self.maxpool4 = nn.MaxPool2d(kernel_size=3, stride=2, padding=1)\n",
        "\n",
        "        self.inception5a = Inception(832, 256, 160, 320, 32, 128, 128)\n",
        "        self.inception5b = Inception(832, 384, 192, 384, 48, 128, 128)\n",
        "\n",
        "        self.avgpool = nn.AdaptiveAvgPool2d((1, 1))\n",
        "        self.dropout = nn.Dropout(0.4)\n",
        "        self.fc = nn.Sequential(\n",
        "            nn.Linear(1024, 512),\n",
        "            nn.ReLU(inplace=True),\n",
        "            nn.Dropout(0.5),\n",
        "            nn.Linear(512, num_classes)\n",
        "        )\n",
        "\n",
        "        self._initialize_weights()\n",
        "\n",
        "    def _initialize_weights(self):\n",
        "        for m in self.modules():\n",
        "            if isinstance(m, nn.Conv2d):\n",
        "                nn.init.kaiming_normal_(m.weight, mode='fan_out', nonlinearity='relu')\n",
        "                if m.bias is not None:\n",
        "                    nn.init.constant_(m.bias, 0)\n",
        "            elif isinstance(m, nn.BatchNorm2d):\n",
        "                nn.init.constant_(m.weight, 1)\n",
        "                nn.init.constant_(m.bias, 0)\n",
        "            elif isinstance(m, nn.Linear):\n",
        "                nn.init.normal_(m.weight, 0, 0.01)\n",
        "                nn.init.constant_(m.bias, 0)\n",
        "\n",
        "    def forward(self, x):\n",
        "        x = self.conv1(x)\n",
        "        x = self.conv2(x)\n",
        "\n",
        "        x = self.inception3a(x)\n",
        "        x = self.inception3b(x)\n",
        "        x = self.maxpool3(x)\n",
        "\n",
        "        x = self.inception4a(x)\n",
        "        x = self.inception4b(x)\n",
        "        x = self.inception4c(x)\n",
        "        x = self.inception4d(x)\n",
        "        x = self.inception4e(x)\n",
        "        x = self.maxpool4(x)\n",
        "\n",
        "        x = self.inception5a(x)\n",
        "        x = self.inception5b(x)\n",
        "\n",
        "        x = self.avgpool(x)\n",
        "        x = torch.flatten(x, 1)\n",
        "        x = self.dropout(x)\n",
        "        x = self.fc(x)\n",
        "\n",
        "        return x\n",
        "\n",
        "class LabelSmoothingCrossEntropy(nn.Module):\n",
        "    def __init__(self, smoothing=0.1):\n",
        "        super(LabelSmoothingCrossEntropy, self).__init__()\n",
        "        self.smoothing = smoothing\n",
        "\n",
        "    def forward(self, x, target):\n",
        "        confidence = 1. - self.smoothing\n",
        "        logprobs = F.log_softmax(x, dim=-1)\n",
        "        nll_loss = -logprobs.gather(dim=-1, index=target.unsqueeze(1))\n",
        "        nll_loss = nll_loss.squeeze(1)\n",
        "        smooth_loss = -logprobs.mean(dim=-1)\n",
        "        loss = confidence * nll_loss + self.smoothing * smooth_loss\n",
        "        return loss.mean()\n",
        "\n",
        "class CustomDataset(Dataset):\n",
        "    def __init__(self, txt_file, img_dir, transform=None):\n",
        "        self.img_dir = img_dir\n",
        "        self.transform = transform\n",
        "\n",
        "        with open(txt_file, 'r') as f:\n",
        "            self.img_list = [line.strip() for line in f.readlines()]\n",
        "\n",
        "    def __len__(self):\n",
        "        return len(self.img_list)\n",
        "\n",
        "    def __getitem__(self, idx):\n",
        "        img_name = os.path.join(self.img_dir, self.img_list[idx])\n",
        "        image = Image.open(img_name).convert('RGB')\n",
        "\n",
        "        if self.transform:\n",
        "            image = self.transform(image)\n",
        "\n",
        "        label = int(self.img_list[idx].split('.')[0]) % 102\n",
        "        return image, label"
      ]
    },
    {
      "cell_type": "code",
      "execution_count": 25,
      "id": "yOMsMtx797lO",
      "metadata": {
        "id": "yOMsMtx797lO",
        "colab": {
          "base_uri": "https://localhost:8080/",
          "height": 1000
        },
        "outputId": "e1b6002a-9a72-416b-cfc0-b82d52edd89b"
      },
      "outputs": [
        {
          "output_type": "stream",
          "name": "stdout",
          "text": [
            "Using device: cuda\n",
            "Starting training...\n",
            "\n",
            "Epoch 1/30\n",
            "Learning Rate: 0.010000\n"
          ]
        },
        {
          "output_type": "stream",
          "name": "stderr",
          "text": [
            "Training: 100%|██████████| 55/55 [00:19<00:00,  2.88it/s]\n",
            "Validating: 100%|██████████| 8/8 [00:02<00:00,  3.94it/s]\n"
          ]
        },
        {
          "output_type": "stream",
          "name": "stdout",
          "text": [
            "Train Loss: 5.2412 Acc: 0.97%\n",
            "Val Loss: 4.6380 Acc: 0.60%\n",
            "Saved new best model with accuracy: 0.60%\n",
            "\n",
            "Epoch 2/30\n",
            "Learning Rate: 0.012725\n"
          ]
        },
        {
          "output_type": "stream",
          "name": "stderr",
          "text": [
            "Training: 100%|██████████| 55/55 [00:19<00:00,  2.89it/s]\n",
            "Validating: 100%|██████████| 8/8 [00:01<00:00,  4.01it/s]\n"
          ]
        },
        {
          "output_type": "stream",
          "name": "stdout",
          "text": [
            "Train Loss: 4.6331 Acc: 0.83%\n",
            "Val Loss: 4.6437 Acc: 0.60%\n",
            "\n",
            "Epoch 3/30\n",
            "Learning Rate: 0.020569\n"
          ]
        },
        {
          "output_type": "stream",
          "name": "stderr",
          "text": [
            "Training: 100%|██████████| 55/55 [00:19<00:00,  2.84it/s]\n",
            "Validating: 100%|██████████| 8/8 [00:02<00:00,  3.96it/s]\n"
          ]
        },
        {
          "output_type": "stream",
          "name": "stdout",
          "text": [
            "Train Loss: 4.6375 Acc: 0.77%\n",
            "Val Loss: 4.6492 Acc: 0.60%\n",
            "\n",
            "Epoch 4/30\n",
            "Learning Rate: 0.032583\n"
          ]
        },
        {
          "output_type": "stream",
          "name": "stderr",
          "text": [
            "Training: 100%|██████████| 55/55 [00:18<00:00,  2.95it/s]\n",
            "Validating: 100%|██████████| 8/8 [00:02<00:00,  3.89it/s]\n"
          ]
        },
        {
          "output_type": "stream",
          "name": "stdout",
          "text": [
            "Train Loss: 4.6445 Acc: 0.77%\n",
            "Val Loss: 4.6503 Acc: 0.80%\n",
            "Saved new best model with accuracy: 0.80%\n",
            "\n",
            "Epoch 5/30\n",
            "Learning Rate: 0.047311\n"
          ]
        },
        {
          "output_type": "stream",
          "name": "stderr",
          "text": [
            "Training: 100%|██████████| 55/55 [00:19<00:00,  2.78it/s]\n",
            "Validating: 100%|██████████| 8/8 [00:02<00:00,  3.97it/s]\n"
          ]
        },
        {
          "output_type": "stream",
          "name": "stdout",
          "text": [
            "Train Loss: 4.6553 Acc: 0.97%\n",
            "Val Loss: 4.6607 Acc: 1.40%\n",
            "Saved new best model with accuracy: 1.40%\n",
            "\n",
            "Epoch 6/30\n",
            "Learning Rate: 0.062971\n"
          ]
        },
        {
          "output_type": "stream",
          "name": "stderr",
          "text": [
            "Training: 100%|██████████| 55/55 [00:19<00:00,  2.80it/s]\n",
            "Validating: 100%|██████████| 8/8 [00:02<00:00,  3.67it/s]\n"
          ]
        },
        {
          "output_type": "stream",
          "name": "stdout",
          "text": [
            "Train Loss: 5.4028 Acc: 0.80%\n",
            "Val Loss: 4.8137 Acc: 1.20%\n",
            "\n",
            "Epoch 7/30\n",
            "Learning Rate: 0.077665\n"
          ]
        },
        {
          "output_type": "stream",
          "name": "stderr",
          "text": [
            "Training: 100%|██████████| 55/55 [00:18<00:00,  2.89it/s]\n",
            "Validating: 100%|██████████| 8/8 [00:02<00:00,  3.89it/s]\n"
          ]
        },
        {
          "output_type": "stream",
          "name": "stdout",
          "text": [
            "Train Loss: 5.4665 Acc: 0.60%\n",
            "Val Loss: 4.6902 Acc: 0.60%\n",
            "\n",
            "Epoch 8/30\n",
            "Learning Rate: 0.089615\n"
          ]
        },
        {
          "output_type": "stream",
          "name": "stderr",
          "text": [
            "Training: 100%|██████████| 55/55 [00:19<00:00,  2.82it/s]\n",
            "Validating: 100%|██████████| 8/8 [00:02<00:00,  3.65it/s]\n"
          ]
        },
        {
          "output_type": "stream",
          "name": "stdout",
          "text": [
            "Train Loss: 5.2724 Acc: 0.80%\n",
            "Val Loss: 4.6972 Acc: 0.60%\n",
            "\n",
            "Epoch 9/30\n",
            "Learning Rate: 0.097372\n"
          ]
        },
        {
          "output_type": "stream",
          "name": "stderr",
          "text": [
            "Training: 100%|██████████| 55/55 [00:19<00:00,  2.89it/s]\n",
            "Validating: 100%|██████████| 8/8 [00:02<00:00,  3.91it/s]\n"
          ]
        },
        {
          "output_type": "stream",
          "name": "stdout",
          "text": [
            "Train Loss: 5.3654 Acc: 0.83%\n",
            "Val Loss: 4.6848 Acc: 0.80%\n",
            "\n",
            "Epoch 10/30\n",
            "Learning Rate: 0.100000\n"
          ]
        },
        {
          "output_type": "stream",
          "name": "stderr",
          "text": [
            "Training: 100%|██████████| 55/55 [00:18<00:00,  2.90it/s]\n",
            "Validating: 100%|██████████| 8/8 [00:02<00:00,  3.64it/s]\n"
          ]
        },
        {
          "output_type": "stream",
          "name": "stdout",
          "text": [
            "Train Loss: 4.6885 Acc: 0.86%\n",
            "Val Loss: 4.6800 Acc: 1.00%\n",
            "\n",
            "Epoch 11/30\n",
            "Learning Rate: 0.099421\n"
          ]
        },
        {
          "output_type": "stream",
          "name": "stderr",
          "text": [
            "Training: 100%|██████████| 55/55 [00:18<00:00,  2.94it/s]\n",
            "Validating: 100%|██████████| 8/8 [00:02<00:00,  3.93it/s]\n"
          ]
        },
        {
          "output_type": "stream",
          "name": "stdout",
          "text": [
            "Train Loss: 4.7016 Acc: 0.86%\n",
            "Val Loss: 4.7175 Acc: 0.80%\n",
            "\n",
            "Epoch 12/30\n",
            "Learning Rate: 0.097739\n"
          ]
        },
        {
          "output_type": "stream",
          "name": "stderr",
          "text": [
            "Training: 100%|██████████| 55/55 [00:18<00:00,  2.91it/s]\n",
            "Validating: 100%|██████████| 8/8 [00:02<00:00,  3.70it/s]\n"
          ]
        },
        {
          "output_type": "stream",
          "name": "stdout",
          "text": [
            "Train Loss: 4.7240 Acc: 0.71%\n",
            "Val Loss: 4.6927 Acc: 0.40%\n",
            "\n",
            "Epoch 13/30\n",
            "Learning Rate: 0.094990\n"
          ]
        },
        {
          "output_type": "stream",
          "name": "stderr",
          "text": [
            "Training: 100%|██████████| 55/55 [00:18<00:00,  2.94it/s]\n",
            "Validating: 100%|██████████| 8/8 [00:02<00:00,  3.88it/s]\n"
          ]
        },
        {
          "output_type": "stream",
          "name": "stdout",
          "text": [
            "Train Loss: 4.6912 Acc: 0.71%\n",
            "Val Loss: 4.6758 Acc: 1.00%\n",
            "\n",
            "Epoch 14/30\n",
            "Learning Rate: 0.091236\n"
          ]
        },
        {
          "output_type": "stream",
          "name": "stderr",
          "text": [
            "Training: 100%|██████████| 55/55 [00:18<00:00,  2.90it/s]\n",
            "Validating: 100%|██████████| 8/8 [00:02<00:00,  3.83it/s]\n"
          ]
        },
        {
          "output_type": "stream",
          "name": "stdout",
          "text": [
            "Train Loss: 4.6787 Acc: 0.83%\n",
            "Val Loss: 4.6788 Acc: 0.60%\n",
            "\n",
            "Epoch 15/30\n",
            "Learning Rate: 0.086561\n"
          ]
        },
        {
          "output_type": "stream",
          "name": "stderr",
          "text": [
            "Training: 100%|██████████| 55/55 [00:19<00:00,  2.86it/s]\n",
            "Validating: 100%|██████████| 8/8 [00:02<00:00,  3.97it/s]\n"
          ]
        },
        {
          "output_type": "stream",
          "name": "stdout",
          "text": [
            "Train Loss: 4.6838 Acc: 0.86%\n",
            "Val Loss: 4.7019 Acc: 0.00%\n",
            "\n",
            "Epoch 16/30\n",
            "Learning Rate: 0.081070\n"
          ]
        },
        {
          "output_type": "stream",
          "name": "stderr",
          "text": [
            "Training: 100%|██████████| 55/55 [00:19<00:00,  2.87it/s]\n",
            "Validating: 100%|██████████| 8/8 [00:01<00:00,  4.05it/s]\n"
          ]
        },
        {
          "output_type": "stream",
          "name": "stdout",
          "text": [
            "Train Loss: 4.6723 Acc: 0.69%\n",
            "Val Loss: 4.6631 Acc: 1.00%\n",
            "\n",
            "Epoch 17/30\n",
            "Learning Rate: 0.074885\n"
          ]
        },
        {
          "output_type": "stream",
          "name": "stderr",
          "text": [
            "Training: 100%|██████████| 55/55 [00:18<00:00,  2.90it/s]\n",
            "Validating: 100%|██████████| 8/8 [00:02<00:00,  3.97it/s]\n"
          ]
        },
        {
          "output_type": "stream",
          "name": "stdout",
          "text": [
            "Train Loss: 4.6704 Acc: 0.63%\n",
            "Val Loss: 4.6684 Acc: 0.60%\n",
            "\n",
            "Epoch 18/30\n",
            "Learning Rate: 0.068144\n"
          ]
        },
        {
          "output_type": "stream",
          "name": "stderr",
          "text": [
            "Training: 100%|██████████| 55/55 [00:19<00:00,  2.85it/s]\n",
            "Validating: 100%|██████████| 8/8 [00:01<00:00,  4.02it/s]\n"
          ]
        },
        {
          "output_type": "stream",
          "name": "stdout",
          "text": [
            "Train Loss: 4.6678 Acc: 0.69%\n",
            "Val Loss: 4.6629 Acc: 0.60%\n",
            "\n",
            "Epoch 19/30\n",
            "Learning Rate: 0.060997\n"
          ]
        },
        {
          "output_type": "stream",
          "name": "stderr",
          "text": [
            "Training: 100%|██████████| 55/55 [00:18<00:00,  2.92it/s]\n",
            "Validating: 100%|██████████| 8/8 [00:01<00:00,  4.05it/s]\n"
          ]
        },
        {
          "output_type": "stream",
          "name": "stdout",
          "text": [
            "Train Loss: 4.6644 Acc: 0.74%\n",
            "Val Loss: 4.6692 Acc: 0.60%\n",
            "\n",
            "Epoch 20/30\n",
            "Learning Rate: 0.053606\n"
          ]
        },
        {
          "output_type": "stream",
          "name": "stderr",
          "text": [
            "Training: 100%|██████████| 55/55 [00:19<00:00,  2.86it/s]\n",
            "Validating: 100%|██████████| 8/8 [00:02<00:00,  3.98it/s]\n"
          ]
        },
        {
          "output_type": "stream",
          "name": "stdout",
          "text": [
            "Train Loss: 4.6617 Acc: 0.57%\n",
            "Val Loss: 4.6535 Acc: 1.00%\n",
            "\n",
            "Epoch 21/30\n",
            "Learning Rate: 0.046133\n"
          ]
        },
        {
          "output_type": "stream",
          "name": "stderr",
          "text": [
            "Training: 100%|██████████| 55/55 [00:18<00:00,  2.90it/s]\n",
            "Validating: 100%|██████████| 8/8 [00:02<00:00,  3.93it/s]\n"
          ]
        },
        {
          "output_type": "stream",
          "name": "stdout",
          "text": [
            "Train Loss: 4.6549 Acc: 0.86%\n",
            "Val Loss: 4.6387 Acc: 1.20%\n",
            "\n",
            "Epoch 22/30\n",
            "Learning Rate: 0.038748\n"
          ]
        },
        {
          "output_type": "stream",
          "name": "stderr",
          "text": [
            "Training: 100%|██████████| 55/55 [00:19<00:00,  2.86it/s]\n",
            "Validating: 100%|██████████| 8/8 [00:02<00:00,  3.97it/s]\n"
          ]
        },
        {
          "output_type": "stream",
          "name": "stdout",
          "text": [
            "Train Loss: 4.6484 Acc: 0.94%\n",
            "Val Loss: 4.6509 Acc: 0.60%\n",
            "\n",
            "Epoch 23/30\n",
            "Learning Rate: 0.031613\n"
          ]
        },
        {
          "output_type": "stream",
          "name": "stderr",
          "text": [
            "Training: 100%|██████████| 55/55 [00:19<00:00,  2.81it/s]\n",
            "Validating: 100%|██████████| 8/8 [00:02<00:00,  3.72it/s]\n"
          ]
        },
        {
          "output_type": "stream",
          "name": "stdout",
          "text": [
            "Train Loss: 4.6423 Acc: 0.69%\n",
            "Val Loss: 4.6428 Acc: 0.60%\n",
            "\n",
            "Epoch 24/30\n",
            "Learning Rate: 0.024890\n"
          ]
        },
        {
          "output_type": "stream",
          "name": "stderr",
          "text": [
            "Training: 100%|██████████| 55/55 [00:19<00:00,  2.83it/s]\n",
            "Validating: 100%|██████████| 8/8 [00:02<00:00,  3.94it/s]\n"
          ]
        },
        {
          "output_type": "stream",
          "name": "stdout",
          "text": [
            "Train Loss: 4.6378 Acc: 0.63%\n",
            "Val Loss: 4.6497 Acc: 0.60%\n",
            "\n",
            "Epoch 25/30\n",
            "Learning Rate: 0.018727\n"
          ]
        },
        {
          "output_type": "stream",
          "name": "stderr",
          "text": [
            "Training: 100%|██████████| 55/55 [00:19<00:00,  2.88it/s]\n",
            "Validating: 100%|██████████| 8/8 [00:02<00:00,  3.69it/s]\n"
          ]
        },
        {
          "output_type": "stream",
          "name": "stdout",
          "text": [
            "Train Loss: 4.6318 Acc: 0.91%\n",
            "Val Loss: 4.6462 Acc: 0.60%\n",
            "\n",
            "Epoch 26/30\n",
            "Learning Rate: 0.013264\n"
          ]
        },
        {
          "output_type": "stream",
          "name": "stderr",
          "text": [
            "Training: 100%|██████████| 55/55 [00:18<00:00,  2.91it/s]\n",
            "Validating: 100%|██████████| 8/8 [00:02<00:00,  3.96it/s]\n"
          ]
        },
        {
          "output_type": "stream",
          "name": "stdout",
          "text": [
            "Train Loss: 4.6291 Acc: 1.00%\n",
            "Val Loss: 4.6465 Acc: 0.00%\n",
            "\n",
            "Epoch 27/30\n",
            "Learning Rate: 0.008621\n"
          ]
        },
        {
          "output_type": "stream",
          "name": "stderr",
          "text": [
            "Training: 100%|██████████| 55/55 [00:18<00:00,  2.94it/s]\n",
            "Validating: 100%|██████████| 8/8 [00:02<00:00,  3.62it/s]\n"
          ]
        },
        {
          "output_type": "stream",
          "name": "stdout",
          "text": [
            "Train Loss: 4.6267 Acc: 1.17%\n",
            "Val Loss: 4.6446 Acc: 0.00%\n",
            "\n",
            "Epoch 28/30\n",
            "Learning Rate: 0.004902\n"
          ]
        },
        {
          "output_type": "stream",
          "name": "stderr",
          "text": [
            "Training: 100%|██████████| 55/55 [00:19<00:00,  2.85it/s]\n",
            "Validating: 100%|██████████| 8/8 [00:02<00:00,  3.92it/s]\n"
          ]
        },
        {
          "output_type": "stream",
          "name": "stdout",
          "text": [
            "Train Loss: 4.6243 Acc: 0.94%\n",
            "Val Loss: 4.6447 Acc: 0.60%\n",
            "\n",
            "Epoch 29/30\n",
            "Learning Rate: 0.002191\n"
          ]
        },
        {
          "output_type": "stream",
          "name": "stderr",
          "text": [
            "Training: 100%|██████████| 55/55 [00:19<00:00,  2.86it/s]\n",
            "Validating: 100%|██████████| 8/8 [00:02<00:00,  3.91it/s]\n"
          ]
        },
        {
          "output_type": "stream",
          "name": "stdout",
          "text": [
            "Train Loss: 4.6229 Acc: 1.17%\n",
            "Val Loss: 4.6448 Acc: 0.60%\n",
            "\n",
            "Epoch 30/30\n",
            "Learning Rate: 0.000548\n"
          ]
        },
        {
          "output_type": "stream",
          "name": "stderr",
          "text": [
            "Training: 100%|██████████| 55/55 [00:19<00:00,  2.87it/s]\n",
            "Validating: 100%|██████████| 8/8 [00:02<00:00,  3.90it/s]\n"
          ]
        },
        {
          "output_type": "stream",
          "name": "stdout",
          "text": [
            "Train Loss: 4.6222 Acc: 1.17%\n",
            "Val Loss: 4.6448 Acc: 0.60%\n"
          ]
        },
        {
          "output_type": "display_data",
          "data": {
            "text/plain": [
              "<Figure size 1500x500 with 2 Axes>"
            ],
            "image/png": "[encoded data removed]"
          },
          "metadata": {}
        }
      ],
      "source": [
        "def train_model(model, train_loader, val_loader, criterion, optimizer, scheduler, num_epochs=30):\n",
        "    device = next(model.parameters()).device\n",
        "    best_val_acc = 0\n",
        "    train_losses = []\n",
        "    val_losses = []\n",
        "    train_accs = []\n",
        "    val_accs = []\n",
        "\n",
        "    for epoch in range(num_epochs):\n",
        "        print(f'\\nEpoch {epoch+1}/{num_epochs}')\n",
        "        print(f'Learning Rate: {optimizer.param_groups[0][\"lr\"]:.6f}')\n",
        "\n",
        "        # Training phase\n",
        "        model.train()\n",
        "        running_loss = 0.0\n",
        "        correct = 0\n",
        "        total = 0\n",
        "\n",
        "        for inputs, labels in tqdm(train_loader, desc='Training'):\n",
        "            inputs = inputs.to(device)\n",
        "            labels = labels.to(device)\n",
        "\n",
        "            optimizer.zero_grad()\n",
        "            outputs = model(inputs)\n",
        "            loss = criterion(outputs, labels)\n",
        "\n",
        "            loss.backward()\n",
        "            torch.nn.utils.clip_grad_norm_(model.parameters(), max_norm=1.0)\n",
        "\n",
        "            optimizer.step()\n",
        "            if scheduler is not None:\n",
        "                scheduler.step()\n",
        "\n",
        "            running_loss += loss.item()\n",
        "            _, predicted = outputs.max(1)\n",
        "            total += labels.size(0)\n",
        "            correct += predicted.eq(labels).sum().item()\n",
        "\n",
        "        epoch_loss = running_loss / len(train_loader)\n",
        "        epoch_acc = 100. * correct / total\n",
        "        train_losses.append(epoch_loss)\n",
        "        train_accs.append(epoch_acc)\n",
        "\n",
        "        # Validation phase\n",
        "        model.eval()\n",
        "        running_loss = 0.0\n",
        "        correct = 0\n",
        "        total = 0\n",
        "\n",
        "        with torch.no_grad():\n",
        "            for inputs, labels in tqdm(val_loader, desc='Validating'):\n",
        "                inputs = inputs.to(device)\n",
        "                labels = labels.to(device)\n",
        "\n",
        "                outputs = model(inputs)\n",
        "                loss = criterion(outputs, labels)\n",
        "\n",
        "                running_loss += loss.item()\n",
        "                _, predicted = outputs.max(1)\n",
        "                total += labels.size(0)\n",
        "                correct += predicted.eq(labels).sum().item()\n",
        "\n",
        "        val_loss = running_loss / len(val_loader)\n",
        "        val_acc = 100. * correct / total\n",
        "        val_losses.append(val_loss)\n",
        "        val_accs.append(val_acc)\n",
        "\n",
        "        print(f'Train Loss: {epoch_loss:.4f} Acc: {epoch_acc:.2f}%')\n",
        "        print(f'Val Loss: {val_loss:.4f} Acc: {val_acc:.2f}%')\n",
        "\n",
        "        # Save best model\n",
        "        if val_acc > best_val_acc:\n",
        "            best_val_acc = val_acc\n",
        "            torch.save({\n",
        "                'epoch': epoch,\n",
        "                'model_state_dict': model.state_dict(),\n",
        "                'optimizer_state_dict': optimizer.state_dict(),\n",
        "                'scheduler_state_dict': scheduler.state_dict() if scheduler else None,\n",
        "                'train_losses': train_losses,\n",
        "                'val_losses': val_losses,\n",
        "                'train_accs': train_accs,\n",
        "                'val_accs': val_accs,\n",
        "                'best_acc': best_val_acc,\n",
        "            }, os.path.join(base_path, 'best_custom_googlenet.pth'))\n",
        "            print(f'Saved new best model with accuracy: {val_acc:.2f}%')\n",
        "\n",
        "    return train_losses, val_losses, train_accs, val_accs\n",
        "\n",
        "if __name__ == '__main__':\n",
        "    # Set random seed\n",
        "    torch.manual_seed(42)\n",
        "    if torch.cuda.is_available():\n",
        "        torch.cuda.manual_seed(42)\n",
        "\n",
        "    # Set paths\n",
        "    base_path = '/content/drive/MyDrive/ip102_v1.1-001/ip102_v1.1'\n",
        "    img_dir = os.path.join(base_path, 'images')\n",
        "    train_txt = os.path.join(base_path, 'train.txt')\n",
        "    val_txt = os.path.join(base_path, 'val.txt')\n",
        "    test_txt = os.path.join(base_path, 'test.txt')\n",
        "\n",
        "    # Data augmentation\n",
        "    transform_train = transforms.Compose([\n",
        "        transforms.RandomResizedCrop(224, scale=(0.8, 1.0)),\n",
        "        transforms.RandomHorizontalFlip(),\n",
        "        transforms.RandomVerticalFlip(),\n",
        "        transforms.RandomRotation(30),\n",
        "        transforms.ColorJitter(brightness=0.4, contrast=0.4, saturation=0.4, hue=0.1),\n",
        "        transforms.RandomAffine(degrees=0, translate=(0.2, 0.2)),\n",
        "        transforms.ToTensor(),\n",
        "        transforms.Normalize(mean=[0.485, 0.456, 0.406], std=[0.229, 0.224, 0.225])\n",
        "    ])\n",
        "\n",
        "    transform_test = transforms.Compose([\n",
        "        transforms.Resize(256),\n",
        "        transforms.CenterCrop(224),\n",
        "        transforms.ToTensor(),\n",
        "        transforms.Normalize(mean=[0.485, 0.456, 0.406], std=[0.229, 0.224, 0.225])\n",
        "    ])\n",
        "\n",
        "    # Create datasets\n",
        "    train_dataset = CustomDataset(train_txt, img_dir, transform=transform_train)\n",
        "    val_dataset = CustomDataset(val_txt, img_dir, transform=transform_test)\n",
        "    test_dataset = CustomDataset(test_txt, img_dir, transform=transform_test)\n",
        "\n",
        "    # Batch size\n",
        "    batch_size = 64\n",
        "\n",
        "    # Create data loaders\n",
        "    train_loader = DataLoader(\n",
        "        train_dataset,\n",
        "        batch_size=batch_size,\n",
        "        shuffle=True,\n",
        "        num_workers=4,\n",
        "        pin_memory=True\n",
        "    )\n",
        "\n",
        "    val_loader = DataLoader(\n",
        "        val_dataset,\n",
        "        batch_size=batch_size,\n",
        "        shuffle=False,\n",
        "        num_workers=4,\n",
        "        pin_memory=True\n",
        "    )\n",
        "\n",
        "    test_loader = DataLoader(\n",
        "        test_dataset,\n",
        "        batch_size=batch_size,\n",
        "        shuffle=False,\n",
        "        num_workers=4,\n",
        "        pin_memory=True\n",
        "    )\n",
        "\n",
        "    # Set device\n",
        "    device = torch.device(\"cuda\" if torch.cuda.is_available() else \"cpu\")\n",
        "    print(f'Using device: {device}')\n",
        "\n",
        "    # Create model\n",
        "    model = CustomGoogLeNet(num_classes=102)\n",
        "    model = model.to(device)\n",
        "\n",
        "    # Define loss function and optimizer with higher learning rates\n",
        "    criterion = LabelSmoothingCrossEntropy(smoothing=0.1)\n",
        "    optimizer = optim.AdamW([\n",
        "    {'params': model.conv1.parameters()},\n",
        "    {'params': model.conv2.parameters()},\n",
        "    {'params': model.inception3a.parameters()},\n",
        "    {'params': model.inception3b.parameters()},\n",
        "    {'params': model.inception4a.parameters()},\n",
        "    {'params': model.inception4b.parameters()},\n",
        "    {'params': model.inception4c.parameters()},\n",
        "    {'params': model.inception4d.parameters()},\n",
        "    {'params': model.inception4e.parameters()},\n",
        "    {'params': model.inception5a.parameters()},\n",
        "    {'params': model.inception5b.parameters()},\n",
        "    {'params': model.fc.parameters(), 'lr': 0.2}  # 更高的学习率\n",
        "    ], lr=0.1, weight_decay=0.0001)  # 基础学习率提高到0.05\n",
        "\n",
        "# Learning rate scheduler\n",
        "    scheduler = lr_scheduler.OneCycleLR(\n",
        "    optimizer,\n",
        "    max_lr=[0.1] * 11 + [0.2],  # 对应更高的学习率\n",
        "    epochs=30,\n",
        "    steps_per_epoch=len(train_loader),\n",
        "    pct_start=0.3,\n",
        "    div_factor=10.0,\n",
        "    final_div_factor=1e3\n",
        "    )\n",
        "\n",
        "    # Train model\n",
        "    print(\"Starting training...\")\n",
        "    try:\n",
        "        # Train the model\n",
        "        train_losses, val_losses, train_accs, val_accs = train_model(\n",
        "            model, train_loader, val_loader, criterion, optimizer, scheduler)\n",
        "\n",
        "        # After training, plot curves\n",
        "        plt.figure(figsize=(15, 5))\n",
        "\n",
        "        # Loss subplot\n",
        "        plt.subplot(1, 2, 1)\n",
        "        plt.plot(train_losses, label='Train Loss', color='blue', linewidth=2)\n",
        "        plt.plot(val_losses, label='Validation Loss', color='red', linewidth=2)\n",
        "        plt.title('Training and Validation Loss')\n",
        "        plt.xlabel('Epoch')\n",
        "        plt.ylabel('Loss')\n",
        "        plt.grid(True, linestyle='--', alpha=0.7)\n",
        "        plt.legend()\n",
        "\n",
        "        # Accuracy subplot\n",
        "        plt.subplot(1, 2, 2)\n",
        "        plt.plot(train_accs, label='Train Acc', color='blue', linewidth=2)\n",
        "        plt.plot(val_accs, label='Validation Acc', color='red', linewidth=2)\n",
        "        plt.title('Training and Validation Accuracy')\n",
        "        plt.xlabel('Epoch')\n",
        "        plt.ylabel('Accuracy (%)')\n",
        "        plt.grid(True, linestyle='--', alpha=0.7)\n",
        "        plt.legend()\n",
        "\n",
        "        plt.tight_layout()\n",
        "        plt.show()\n",
        "\n",
        "    except Exception as e:\n",
        "        print(f\"Error during execution: {str(e)}\")\n",
        "        import traceback\n",
        "        traceback.print_exc()\n",
        "\n",
        "# Function to view training curves from saved checkpoint\n",
        "def plot_training_curves_from_checkpoint():\n",
        "    checkpoint = torch.load(os.path.join(base_path, 'best_custom_googlenet.pth'))\n",
        "\n",
        "    train_losses = checkpoint['train_losses']\n",
        "    val_losses = checkpoint['val_losses']\n",
        "    train_accs = checkpoint['train_accs']\n",
        "    val_accs = checkpoint['val_accs']\n",
        "\n",
        "    plt.figure(figsize=(15, 5))\n",
        "\n",
        "    # Loss subplot\n",
        "    plt.subplot(1, 2, 1)\n",
        "    plt.plot(train_losses, label='Train Loss', color='blue', linewidth=2)\n",
        "    plt.plot(val_losses, label='Validation Loss', color='red', linewidth=2)\n",
        "    plt.title('Training and Validation Loss')\n",
        "    plt.xlabel('Epoch')\n",
        "    plt.ylabel('Loss')\n",
        "    plt.grid(True, linestyle='--', alpha=0.7)\n",
        "    plt.legend()\n",
        "\n",
        "    # Accuracy subplot\n",
        "    plt.subplot(1, 2, 2)\n",
        "    plt.plot(train_accs, label='Train Acc', color='blue', linewidth=2)\n",
        "    plt.plot(val_accs, label='Validation Acc', color='red', linewidth=2)\n",
        "    plt.title('Training and Validation Accuracy')\n",
        "    plt.xlabel('Epoch')\n",
        "    plt.ylabel('Accuracy (%)')\n",
        "    plt.grid(True, linestyle='--', alpha=0.7)\n",
        "    plt.legend()\n",
        "\n",
        "    plt.tight_layout()\n",
        "    plt.show()"
      ]
    },
    {
      "cell_type": "code",
      "execution_count": 7,
      "id": "YBR3i0asDIxB",
      "metadata": {
        "id": "YBR3i0asDIxB"
      },
      "outputs": [],
      "source": []
    },
    {
      "cell_type": "code",
      "execution_count": 8,
      "id": "mRz-xE6uU9Bs",
      "metadata": {
        "id": "mRz-xE6uU9Bs"
      },
      "outputs": [],
      "source": []
    },
    {
      "cell_type": "code",
      "source": [],
      "metadata": {
        "id": "vxu2sM5h_Wli"
      },
      "id": "vxu2sM5h_Wli",
      "execution_count": 9,
      "outputs": []
    },
    {
      "cell_type": "code",
      "execution_count": null,
      "id": "gm9RYjJR65Is",
      "metadata": {
        "id": "gm9RYjJR65Is"
      },
      "outputs": [],
      "source": []
    },
    {
      "cell_type": "code",
      "execution_count": null,
      "id": "jzMYgAsC8Avx",
      "metadata": {
        "id": "jzMYgAsC8Avx"
      },
      "outputs": [],
      "source": []
    }
  ],
  "metadata": {
    "accelerator": "GPU",
    "colab": {
      "gpuType": "T4",
      "machine_shape": "hm",
      "provenance": []
    },
    "kernelspec": {
      "display_name": "Python 3",
      "name": "python3"
    },
    "language_info": {
      "codemirror_mode": {
        "name": "ipython",
        "version": 3
      },
      "file_extension": ".py",
      "mimetype": "text/x-python",
      "name": "python",
      "nbconvert_exporter": "python",
      "pygments_lexer": "ipython3",
      "version": "3.11.7"
    }
  },
  "nbformat": 4,
  "nbformat_minor": 5
}